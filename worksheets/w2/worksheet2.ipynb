{
 "cells": [
  {
   "cell_type": "markdown",
   "id": "6dc730e1",
   "metadata": {},
   "source": [
    "# Bhaskar Barman\n",
    "# 21ms147"
   ]
  },
  {
   "cell_type": "code",
   "execution_count": 1,
   "id": "d2547d2f",
   "metadata": {},
   "outputs": [],
   "source": [
    "def f1(x):\n",
    "    return (x+3)*(x-1)**2\n",
    "l=-4\n",
    "r=-2.5\n",
    "\n",
    "maxiter=100\n",
    "tol=10**-6\n"
   ]
  },
  {
   "cell_type": "code",
   "execution_count": 2,
   "id": "cd4d6004",
   "metadata": {},
   "outputs": [
    {
     "name": "stdout",
     "output_type": "stream",
     "text": [
      "iterations \t guess \t\t\t difference\n",
      "\n",
      "1 \t\t -2.875 \t -0.125\n",
      "2 \t\t -3.0625 \t 0.0625\n",
      "3 \t\t -2.96875 \t -0.03125\n",
      "4 \t\t -3.015625 \t 0.015625\n",
      "5 \t\t -2.9921875 \t -0.0078125\n",
      "6 \t\t -3.00390625 \t 0.00390625\n",
      "7 \t\t -2.998046875 \t -0.001953125\n",
      "8 \t\t -3.0009765625 \t 0.0009765625\n",
      "9 \t\t -2.99951171875 \t -0.00048828125\n",
      "10 \t\t -3.000244140625 \t 0.000244140625\n",
      "11 \t\t -2.9998779296875 \t -0.0001220703125\n",
      "12 \t\t -3.00006103515625 \t 6.103515625e-05\n",
      "13 \t\t -2.999969482421875 \t -3.0517578125e-05\n",
      "14 \t\t -3.0000152587890625 \t 1.52587890625e-05\n",
      "15 \t\t -2.9999923706054688 \t -7.62939453125e-06\n",
      "16 \t\t -3.0000038146972656 \t 3.814697265625e-06\n",
      "17 \t\t -2.999998092651367 \t -1.9073486328125e-06\n",
      "18 \t\t -3.0000009536743164 \t 9.5367431640625e-07\n",
      "19 \t\t -2.999999523162842 \t -4.76837158203125e-07\n",
      "20 \t\t -3.000000238418579 \t 2.384185791015625e-07\n",
      "21 \t\t -2.9999998807907104 \t -1.1920928955078125e-07\n",
      "22 \t\t -3.0000000596046448 \t 5.960464477539063e-08\n",
      "\n",
      "\n",
      "no of iterations: 23\n",
      "root is -3.000000 \n"
     ]
    }
   ],
   "source": [
    "def bisection(f1,l,r,tol):\n",
    "    if f1(l)*f1(r)>0:\n",
    "        print(\"Doesn't contain root.\")\n",
    "    else:\n",
    "        print(\"iterations \\t guess \\t\\t\\t difference\\n\")\n",
    "        c=(l+r)/2\n",
    "        iter=1\n",
    "\n",
    "        while ((abs(f1(c))>tol)&(iter<=maxiter)):\n",
    "            if f1(l)*f1(c)<0:\n",
    "                r=c\n",
    "            else:\n",
    "                l=c\n",
    "\n",
    "            c=(l+r)/2\n",
    "            print(iter,\"\\t\\t\",c,\"\\t\",(abs(c)-3))\n",
    "            iter+=1\n",
    "        if iter>maxiter:\n",
    "            print(\"it couldn’t converge to the solution in maxiter steps.\")\n",
    "        else:\n",
    "            print(\"\\n\")\n",
    "            print(\"no of iterations:\",iter)\n",
    "            print(\"root is %.6f \"%c)\n",
    "bisection(f1,l,r,tol)       "
   ]
  },
  {
   "cell_type": "code",
   "execution_count": 3,
   "id": "8850922f",
   "metadata": {},
   "outputs": [
    {
     "name": "stdout",
     "output_type": "stream",
     "text": [
      "Doesn't contain root.\n"
     ]
    }
   ],
   "source": [
    "bisection(f1,-2,2,tol)  "
   ]
  },
  {
   "cell_type": "code",
   "execution_count": 4,
   "id": "537c0d16",
   "metadata": {},
   "outputs": [],
   "source": [
    "\n",
    "def f2(x):\n",
    "    return x-(math.tan(x)/3)\n"
   ]
  },
  {
   "cell_type": "code",
   "execution_count": 5,
   "id": "72864484",
   "metadata": {},
   "outputs": [
    {
     "ename": "NameError",
     "evalue": "name 'math' is not defined",
     "output_type": "error",
     "traceback": [
      "\u001b[0;31m---------------------------------------------------------------------------\u001b[0m",
      "\u001b[0;31mNameError\u001b[0m                                 Traceback (most recent call last)",
      "\u001b[0;32m/tmp/ipykernel_882675/1115796362.py\u001b[0m in \u001b[0;36m<module>\u001b[0;34m\u001b[0m\n\u001b[1;32m     25\u001b[0m             \u001b[0mprint\u001b[0m\u001b[0;34m(\u001b[0m\u001b[0;34m\"no of iterations:\"\u001b[0m\u001b[0;34m,\u001b[0m\u001b[0miter\u001b[0m\u001b[0;34m)\u001b[0m\u001b[0;34m\u001b[0m\u001b[0;34m\u001b[0m\u001b[0m\n\u001b[1;32m     26\u001b[0m             \u001b[0mprint\u001b[0m\u001b[0;34m(\u001b[0m\u001b[0;34m\"root is %.6f \"\u001b[0m\u001b[0;34m%\u001b[0m\u001b[0mc\u001b[0m\u001b[0;34m)\u001b[0m\u001b[0;34m\u001b[0m\u001b[0;34m\u001b[0m\u001b[0m\n\u001b[0;32m---> 27\u001b[0;31m \u001b[0mbisection\u001b[0m\u001b[0;34m(\u001b[0m\u001b[0mf2\u001b[0m\u001b[0;34m,\u001b[0m\u001b[0ml\u001b[0m\u001b[0;34m,\u001b[0m\u001b[0mr\u001b[0m\u001b[0;34m,\u001b[0m\u001b[0mtol\u001b[0m\u001b[0;34m)\u001b[0m\u001b[0;34m\u001b[0m\u001b[0;34m\u001b[0m\u001b[0m\n\u001b[0m\u001b[1;32m     28\u001b[0m \u001b[0;34m\u001b[0m\u001b[0m\n",
      "\u001b[0;32m/tmp/ipykernel_882675/1115796362.py\u001b[0m in \u001b[0;36mbisection\u001b[0;34m(f2, l, r, tol)\u001b[0m\n\u001b[1;32m      3\u001b[0m \u001b[0;34m\u001b[0m\u001b[0m\n\u001b[1;32m      4\u001b[0m \u001b[0;32mdef\u001b[0m \u001b[0mbisection\u001b[0m\u001b[0;34m(\u001b[0m\u001b[0mf2\u001b[0m\u001b[0;34m,\u001b[0m\u001b[0ml\u001b[0m\u001b[0;34m,\u001b[0m\u001b[0mr\u001b[0m\u001b[0;34m,\u001b[0m\u001b[0mtol\u001b[0m\u001b[0;34m)\u001b[0m\u001b[0;34m:\u001b[0m\u001b[0;34m\u001b[0m\u001b[0;34m\u001b[0m\u001b[0m\n\u001b[0;32m----> 5\u001b[0;31m     \u001b[0;32mif\u001b[0m \u001b[0mf2\u001b[0m\u001b[0;34m(\u001b[0m\u001b[0ml\u001b[0m\u001b[0;34m)\u001b[0m\u001b[0;34m*\u001b[0m\u001b[0mf2\u001b[0m\u001b[0;34m(\u001b[0m\u001b[0mr\u001b[0m\u001b[0;34m)\u001b[0m\u001b[0;34m>\u001b[0m\u001b[0;36m0\u001b[0m\u001b[0;34m:\u001b[0m\u001b[0;34m\u001b[0m\u001b[0;34m\u001b[0m\u001b[0m\n\u001b[0m\u001b[1;32m      6\u001b[0m         \u001b[0mprint\u001b[0m\u001b[0;34m(\u001b[0m\u001b[0;34m\"Doesn't contain root.\"\u001b[0m\u001b[0;34m)\u001b[0m\u001b[0;34m\u001b[0m\u001b[0;34m\u001b[0m\u001b[0m\n\u001b[1;32m      7\u001b[0m     \u001b[0;32melse\u001b[0m\u001b[0;34m:\u001b[0m\u001b[0;34m\u001b[0m\u001b[0;34m\u001b[0m\u001b[0m\n",
      "\u001b[0;32m/tmp/ipykernel_882675/1198465850.py\u001b[0m in \u001b[0;36mf2\u001b[0;34m(x)\u001b[0m\n\u001b[1;32m      1\u001b[0m \u001b[0;32mdef\u001b[0m \u001b[0mf2\u001b[0m\u001b[0;34m(\u001b[0m\u001b[0mx\u001b[0m\u001b[0;34m)\u001b[0m\u001b[0;34m:\u001b[0m\u001b[0;34m\u001b[0m\u001b[0;34m\u001b[0m\u001b[0m\n\u001b[0;32m----> 2\u001b[0;31m     \u001b[0;32mreturn\u001b[0m \u001b[0mx\u001b[0m\u001b[0;34m-\u001b[0m\u001b[0;34m(\u001b[0m\u001b[0mmath\u001b[0m\u001b[0;34m.\u001b[0m\u001b[0mtan\u001b[0m\u001b[0;34m(\u001b[0m\u001b[0mx\u001b[0m\u001b[0;34m)\u001b[0m\u001b[0;34m/\u001b[0m\u001b[0;36m3\u001b[0m\u001b[0;34m)\u001b[0m\u001b[0;34m\u001b[0m\u001b[0;34m\u001b[0m\u001b[0m\n\u001b[0m",
      "\u001b[0;31mNameError\u001b[0m: name 'math' is not defined"
     ]
    }
   ],
   "source": [
    "l=1.2\n",
    "r=1.4\n",
    "\n",
    "def bisection(f2,l,r,tol):\n",
    "    if f2(l)*f2(r)>0:\n",
    "        print(\"Doesn't contain root.\")\n",
    "    else:\n",
    "        print(\"iterations \\t guess\\n\")\n",
    "        c=(l+r)/2\n",
    "        iter=1\n",
    "\n",
    "        while ((abs(f2(c))>tol)&(iter<=maxiter)):\n",
    "            if f2(l)*f2(c)<0:\n",
    "                r=c\n",
    "            else:\n",
    "                l=c\n",
    "\n",
    "            c=(l+r)/2\n",
    "            print(iter,\"\\t\\t\",c)\n",
    "            iter+=1\n",
    "        if iter>maxiter:\n",
    "            print(\"it couldn’t converge to the solution in maxiter steps.\")\n",
    "        else:\n",
    "            print(\"\\n\")\n",
    "            print(\"no of iterations:\",iter)\n",
    "            print(\"root is %.6f \"%c)\n",
    "bisection(f2,l,r,tol)       \n",
    " \n"
   ]
  },
  {
   "cell_type": "code",
   "execution_count": 6,
   "id": "31a8be14",
   "metadata": {},
   "outputs": [],
   "source": [
    "#Q3)\n",
    "def V(x):\n",
    "    return x**4 +(2*x/3)**3-x**2+0.125\n",
    "    \n",
    "E=-0.125\n"
   ]
  },
  {
   "cell_type": "code",
   "execution_count": 7,
   "id": "23c30e80",
   "metadata": {},
   "outputs": [],
   "source": [
    "import numpy as np\n",
    "import matplotlib.pyplot as plt\n",
    "from math import *"
   ]
  },
  {
   "cell_type": "code",
   "execution_count": 8,
   "id": "e2157240",
   "metadata": {},
   "outputs": [
    {
     "data": {
      "image/png": "[encoded data removed]",
      "text/plain": [
       "<Figure size 432x288 with 1 Axes>"
      ]
     },
     "metadata": {
      "needs_background": "light"
     },
     "output_type": "display_data"
    }
   ],
   "source": [
    "l=-1.5\n",
    "r=1.0\n",
    "p=np.linspace(l,r,100)\n",
    "z=np.zeros(100)\n",
    "plt.plot(p,V(p))\n",
    "plt.plot(p,z)\n",
    "plt.show()\n"
   ]
  },
  {
   "cell_type": "code",
   "execution_count": 9,
   "id": "5d3b7e0a",
   "metadata": {},
   "outputs": [
    {
     "name": "stdout",
     "output_type": "stream",
     "text": [
      "0.15543520999999982\n",
      "0.125\n"
     ]
    }
   ],
   "source": [
    "print(V(-1.17))\n",
    "print(V(0))"
   ]
  },
  {
   "cell_type": "code",
   "execution_count": 15,
   "id": "65e79b3d",
   "metadata": {},
   "outputs": [
    {
     "name": "stdout",
     "output_type": "stream",
     "text": [
      "turning point is-1.10731 \n",
      "turning point is-0.35748 \n",
      "turning point is0.42434 \n",
      "turning point is0.74416 \n"
     ]
    }
   ],
   "source": [
    "#a)\n",
    "\n",
    "tol=10**-5\n",
    "def bisection(f,l,r,tol):\n",
    "    if f(l)*f(r)>0:\n",
    "            print(\"Doesn't contain root.\")\n",
    "    else:\n",
    "\n",
    "            c=(l*f(r)-r*f(l))/(f(r)-f(l))\n",
    "            iter=1\n",
    "\n",
    "            while (abs(f(c))>tol):\n",
    "                if f(l)*f(c)<0:\n",
    "                    r=c\n",
    "                else:\n",
    "                    l=c\n",
    "\n",
    "                c=(l*f(r)-r*f(l))/(f(r)-f(l))\n",
    "\n",
    "                iter+=1\n",
    "\n",
    "            print(\"turning point is%.5f \"%c)\n",
    "bisection(V,-1.5,-1,tol)  \n",
    "bisection(V,-0.5,0,tol) \n",
    "bisection(V,0.25,0.5,tol)\n",
    "bisection(V,0.6,1,tol) \n",
    "\n",
    "\n",
    "\n"
   ]
  },
  {
   "cell_type": "code",
   "execution_count": 17,
   "id": "13db0a08",
   "metadata": {},
   "outputs": [
    {
     "name": "stdout",
     "output_type": "stream",
     "text": [
      "turning point is-1.10731 \n",
      "turning point is-0.35748 \n",
      "turning point is0.42434 \n",
      "turning point is0.74416 \n"
     ]
    }
   ],
   "source": [
    "#b)regula falsi\n",
    "tol=10**-5\n",
    "def regula_falsi(f,l,r,tol):\n",
    "    if f(l)*f(r)>0:\n",
    "        print(\"Doesn't contain root.\")\n",
    "    else:\n",
    "       \n",
    "        c=(l*f(r)-r*f(l))/(f(r)-f(l))\n",
    "        iter=1\n",
    "\n",
    "        while (abs(f(c))>tol):\n",
    "            if f(l)*f(c)<0:\n",
    "                r=c\n",
    "            else:\n",
    "                l=c\n",
    "\n",
    "            c=(l*f(r)-r*f(l))/(f(r)-f(l))\n",
    "            \n",
    "            iter+=1\n",
    "\n",
    "        print(\"turning point is%.5f \"%c)\n",
    "            \n",
    "regula_falsi(V,-1.5,-1,tol)\n",
    "regula_falsi(V,-0.5,0,tol) \n",
    "regula_falsi(V,0.25,0.5,tol)\n",
    "regula_falsi(V,0.6,1,tol) "
   ]
  },
  {
   "cell_type": "code",
   "execution_count": 19,
   "id": "1529561d",
   "metadata": {},
   "outputs": [
    {
     "name": "stdout",
     "output_type": "stream",
     "text": [
      "turning point is-1.10732 \n",
      "turning point is-0.35749 \n",
      "turning point is0.42435 \n",
      "turning point is0.74417 \n"
     ]
    }
   ],
   "source": [
    "#c)secant\n",
    "tol=10**-5\n",
    "def secant(f,x1,x2,tol):\n",
    "    while abs(f(x2))>tol:\n",
    "        x1,x2=x2,(x1*f(x2)-x2*f(x1))/(f(x2)-f(x1))\n",
    "    print(\"turning point is%.5f \"%x2)\n",
    "secant(V,-1.5,-1,tol)\n",
    "secant(V,-0.5,0,tol)\n",
    "secant(V,0.25,0.5,tol)\n",
    "secant(V,0.6,1,tol)\n"
   ]
  },
  {
   "cell_type": "code",
   "execution_count": 29,
   "id": "9a48306e",
   "metadata": {},
   "outputs": [
    {
     "name": "stdout",
     "output_type": "stream",
     "text": [
      "turning point is-1.10732 \n",
      "turning point is-0.35748 \n",
      "turning point is0.42434 \n",
      "turning point is0.74417 \n"
     ]
    }
   ],
   "source": [
    "#newton raphson\n",
    "def fp(x):\n",
    "    return 4*x**3+(3*(x**2)*(2/3)**3)-2*x\n",
    "def newton_raphson(f,x,fp):\n",
    "    while abs(f(x))>tol: \n",
    "        if fp(x) != 0.0:\n",
    "            x = x - V(x)/fp(x)\n",
    "    print(\"turning point is%.5f \"%x)\n",
    "\n",
    "newton_raphson(V,-1.5,fp)    \n",
    "newton_raphson(V,-0.5,fp) \n",
    "newton_raphson(V,0.25,fp) \n",
    "newton_raphson(V,1,fp) "
   ]
  },
  {
   "cell_type": "code",
   "execution_count": null,
   "id": "4689e1ee",
   "metadata": {},
   "outputs": [],
   "source": []
  },
  {
   "cell_type": "code",
   "execution_count": null,
   "id": "f530e23d",
   "metadata": {},
   "outputs": [],
   "source": []
  },
  {
   "cell_type": "code",
   "execution_count": null,
   "id": "c2a7cbfb",
   "metadata": {},
   "outputs": [],
   "source": [
    "#d) newton raphson\n",
    "\n",
    "\n"
   ]
  },
  {
   "cell_type": "code",
   "execution_count": null,
   "id": "c5ac5d18",
   "metadata": {},
   "outputs": [],
   "source": []
  }
 ],
 "metadata": {
  "kernelspec": {
   "display_name": "Python 3 (ipykernel)",
   "language": "python",
   "name": "python3"
  },
  "language_info": {
   "codemirror_mode": {
    "name": "ipython",
    "version": 3
   },
   "file_extension": ".py",
   "mimetype": "text/x-python",
   "name": "python",
   "nbconvert_exporter": "python",
   "pygments_lexer": "ipython3",
   "version": "3.10.12"
  }
 },
 "nbformat": 4,
 "nbformat_minor": 5
}
