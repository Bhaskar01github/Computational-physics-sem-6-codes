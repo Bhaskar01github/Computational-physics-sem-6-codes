{
 "cells": [
  {
   "cell_type": "markdown",
   "id": "7d4671af",
   "metadata": {},
   "source": [
    "# Workbook 1\n",
    "Bhaskar Barman \n",
    "21MS147"
   ]
  },
  {
   "cell_type": "code",
   "execution_count": 3,
   "id": "59dd2f6c",
   "metadata": {
    "scrolled": false
   },
   "outputs": [
    {
     "name": "stdout",
     "output_type": "stream",
     "text": [
      "enter the number: 8\n"
     ]
    },
    {
     "data": {
      "text/plain": [
       "False"
      ]
     },
     "execution_count": 3,
     "metadata": {},
     "output_type": "execute_result"
    }
   ],
   "source": [
    "#Q1)\n",
    "n=int(input(\"enter the number: \"))\n",
    "def is_prime(n):\n",
    "    for i in range(2,int(n**0.5)+1):\n",
    "        if n%i==0:\n",
    "            return False\n",
    "    else:\n",
    "        return True\n",
    "            \n",
    "is_prime(n)\n"
   ]
  },
  {
   "cell_type": "code",
   "execution_count": 76,
   "id": "4aa084b7",
   "metadata": {},
   "outputs": [
    {
     "name": "stdout",
     "output_type": "stream",
     "text": [
      "enter the integer1: 3\n",
      "enter the integer2: 20\n",
      "3\n",
      "5\n",
      "7\n",
      "11\n",
      "13\n",
      "17\n",
      "19\n"
     ]
    }
   ],
   "source": [
    "#Q2)\n",
    "x=int(input(\"enter the integer1: \"))\n",
    "y=int(input(\"enter the integer2: \"))\n",
    "\n",
    "for i in range(x,y+1):\n",
    "    if is_prime(i)==True: \n",
    "        print(i)\n",
    "    \n",
    "\n",
    "\n",
    "\n"
   ]
  },
  {
   "cell_type": "code",
   "execution_count": 11,
   "id": "fbf86f1a",
   "metadata": {},
   "outputs": [
    {
     "name": "stdout",
     "output_type": "stream",
     "text": [
      "7.3809523809523805\n"
     ]
    }
   ],
   "source": [
    "#Q3)\n",
    "def fact(n):\n",
    "    f=1\n",
    "    for i in range(n,1,-1):\n",
    "        f*=i\n",
    "    return f    \n",
    "#print(fact(4))        \n",
    "def f(x,n):\n",
    "    exp=0\n",
    "    for p in range(0,n):\n",
    "        exp+=(x**p)/fact(p)\n",
    "    return exp\n",
    "print(f(2,8))\n"
   ]
  },
  {
   "cell_type": "code",
   "execution_count": 15,
   "id": "42665da3",
   "metadata": {},
   "outputs": [
    {
     "name": "stdout",
     "output_type": "stream",
     "text": [
      "[0.1 0.2 0.3 0.4 0.5 0.6 0.7 0.8 0.9 1. ]\n",
      "[ 4  8 12 16 20]\n",
      "x         n=4            n=8            n=12           n=16           n=20           \n",
      "0.100000       1.105167       1.105171       1.105171       1.105171       1.105171       \n",
      "0.200000       1.221333       1.221403       1.221403       1.221403       1.221403       \n",
      "0.300000       1.349500       1.349859       1.349859       1.349859       1.349859       \n",
      "0.400000       1.490667       1.491825       1.491825       1.491825       1.491825       \n",
      "0.500000       1.645833       1.648721       1.648721       1.648721       1.648721       \n",
      "0.600000       1.816000       1.822118       1.822119       1.822119       1.822119       \n",
      "0.700000       2.002167       2.013751       2.013753       2.013753       2.013753       \n",
      "0.800000       2.205333       2.225536       2.225541       2.225541       2.225541       \n",
      "0.900000       2.426500       2.459591       2.459603       2.459603       2.459603       \n",
      "1.000000       2.666667       2.718254       2.718282       2.718282       2.718282       \n"
     ]
    }
   ],
   "source": [
    "#Q4)\n",
    "import numpy as np\n",
    "x=np.arange(0.1,1.1,0.1,dtype=float)\n",
    "print(x)\n",
    "n=np.arange(4,24,4,dtype=int)\n",
    "print(n)\n",
    "l=[]\n",
    "for i in x:\n",
    "    for j in n:\n",
    "        l.append(f(i,j))\n",
    "#print(l)\n",
    "\n",
    "header = [\"x\"]\n",
    "header.extend([f\"n={n}\" for n in n_values])\n",
    "print(\"{:<10}\".format(header[0]), end=\"\")\n",
    "for col in header[1:]:\n",
    "    print(\"{:<15}\".format(col), end=\"\")\n",
    "print()\n",
    "\n",
    "#table\n",
    "for x in x_values:\n",
    "    row_data = [x]\n",
    "    row_data.extend([calculate_exp_series(x, n) for n in n_values])\n",
    "    for data in row_data:\n",
    "        print(\"{:<15.6f}\".format(data), end=\"\")\n",
    "    print()\n"
   ]
  },
  {
   "cell_type": "code",
   "execution_count": 82,
   "id": "3ee266df",
   "metadata": {},
   "outputs": [
    {
     "name": "stdout",
     "output_type": "stream",
     "text": [
      "tell upto how many terms you want to approximate: 6\n",
      "Approximation of π using 6 terms in the continued fraction: 3.28373848\n",
      "Approximation of π using 6 terms in the leibniz formula: 2.97604618\n",
      "[1, 2, 3, 4, 5, 6, 7, 8, 9, 10]\n",
      "[4.0, 2.66666667, 3.46666667, 2.8952381, 3.33968254, 2.97604618, 3.28373848, 3.01707182, 3.25236593, 3.04183962]\n",
      "[2.66666667, 3.46666667, 2.8952381, 3.33968254, 2.97604618, 3.28373848, 3.01707182, 3.25236593, 3.04183962, 3.23231581]\n"
     ]
    },
    {
     "data": {
      "image/png": "[encoded data removed]",
      "text/plain": [
       "<Figure size 432x288 with 1 Axes>"
      ]
     },
     "metadata": {
      "needs_background": "light"
     },
     "output_type": "display_data"
    }
   ],
   "source": [
    "#Q5)\n",
    "def continued_fraction(n):\n",
    "    result = 0.0\n",
    "\n",
    "    for i in range(n, 0, -1):\n",
    "        result = (i*2-1)**2 / (2 + result)\n",
    "\n",
    "    return 4 / (1 + result)\n",
    "\n",
    "\n",
    "\n",
    "n=int(input(\"tell upto how many terms you want to approximate: \"))\n",
    "print(f\"Approximation of π using {n} terms in the continued fraction: {round(continued_fraction(n),8)}\")\n",
    "\n",
    "def leibniz(n):\n",
    "    result=0.0\n",
    "    \n",
    "    for i in range(n,0,-1):\n",
    "        result += -(-1)**i/(2*i-1)\n",
    "    return 4*result\n",
    "\n",
    "print(f\"Approximation of π using {n} terms in the leibniz formula: {round(leibniz(n),8)}\")\n",
    "\n",
    "\n",
    "n=[1,2,3,4,5,6,7,8,9,10]\n",
    "print(n)\n",
    "leb=[]\n",
    "conf=[]\n",
    "for i in n:\n",
    "    leb.append(round(leibniz(i),8))\n",
    "    conf.append(round(continued_fraction(i),8))\n",
    "    #print(leibniz(i))\n",
    "print(leb)  \n",
    "print(conf)\n",
    "\n",
    "\n",
    "import matplotlib.pyplot as plt\n",
    "plt.plot(n,leb,label='lebniz')\n",
    "plt.plot(n,conf,label='continued fractions')\n",
    "plt.xlabel('n')\n",
    "plt.ylabel('approximate function values')\n",
    "plt.legend()\n",
    "plt.show()\n"
   ]
  },
  {
   "cell_type": "code",
   "execution_count": null,
   "id": "d9f3cc76",
   "metadata": {},
   "outputs": [],
   "source": []
  }
 ],
 "metadata": {
  "kernelspec": {
   "display_name": "Python 3 (ipykernel)",
   "language": "python",
   "name": "python3"
  },
  "language_info": {
   "codemirror_mode": {
    "name": "ipython",
    "version": 3
   },
   "file_extension": ".py",
   "mimetype": "text/x-python",
   "name": "python",
   "nbconvert_exporter": "python",
   "pygments_lexer": "ipython3",
   "version": "3.10.5"
  }
 },
 "nbformat": 4,
 "nbformat_minor": 5
}
